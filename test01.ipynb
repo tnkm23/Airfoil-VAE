{
 "cells": [
  {
   "cell_type": "code",
   "execution_count": 1,
   "id": "498c563c",
   "metadata": {},
   "outputs": [],
   "source": [
    "import os\n",
    "import numpy as np\n",
    "import pandas as pd\n",
    "import readdat as rd\n"
   ]
  },
  {
   "cell_type": "code",
   "execution_count": 3,
   "id": "236869cc",
   "metadata": {},
   "outputs": [
    {
     "name": "stdout",
     "output_type": "stream",
     "text": [
      "Processing file 1/1637: 2032c.dat\n"
     ]
    },
    {
     "ename": "AttributeError",
     "evalue": "'list' object has no attribute 'strip'",
     "output_type": "error",
     "traceback": [
      "\u001b[1;31m---------------------------------------------------------------------------\u001b[0m",
      "\u001b[1;31mAttributeError\u001b[0m                            Traceback (most recent call last)",
      "Cell \u001b[1;32mIn[3], line 10\u001b[0m\n\u001b[0;32m      8\u001b[0m data \u001b[38;5;241m=\u001b[39m data_dir \u001b[38;5;241m+\u001b[39m \u001b[38;5;124m\"\u001b[39m\u001b[38;5;124m/\u001b[39m\u001b[38;5;124m\"\u001b[39m \u001b[38;5;241m+\u001b[39m file\n\u001b[0;32m      9\u001b[0m \u001b[38;5;28mprint\u001b[39m(\u001b[38;5;124mf\u001b[39m\u001b[38;5;124m\"\u001b[39m\u001b[38;5;124mProcessing file \u001b[39m\u001b[38;5;132;01m{\u001b[39;00mi\u001b[38;5;250m \u001b[39m\u001b[38;5;241m+\u001b[39m\u001b[38;5;250m \u001b[39m\u001b[38;5;241m1\u001b[39m\u001b[38;5;132;01m}\u001b[39;00m\u001b[38;5;124m/\u001b[39m\u001b[38;5;132;01m{\u001b[39;00m\u001b[38;5;28mlen\u001b[39m(file_list)\u001b[38;5;132;01m}\u001b[39;00m\u001b[38;5;124m: \u001b[39m\u001b[38;5;132;01m{\u001b[39;00mfile\u001b[38;5;132;01m}\u001b[39;00m\u001b[38;5;124m\"\u001b[39m)\n\u001b[1;32m---> 10\u001b[0m read_airfoil_data \u001b[38;5;241m=\u001b[39m \u001b[43mrd\u001b[49m\u001b[38;5;241;43m.\u001b[39;49m\u001b[43mread_airfoil\u001b[49m\u001b[43m(\u001b[49m\u001b[43mdata\u001b[49m\u001b[43m)\u001b[49m\n\u001b[0;32m     11\u001b[0m \u001b[38;5;28mprint\u001b[39m(\u001b[38;5;124mf\u001b[39m\u001b[38;5;124m\"\u001b[39m\u001b[38;5;124mData shape for \u001b[39m\u001b[38;5;132;01m{\u001b[39;00mfile\u001b[38;5;132;01m}\u001b[39;00m\u001b[38;5;124m: \u001b[39m\u001b[38;5;132;01m{\u001b[39;00mread_airfoil_data\u001b[38;5;241m.\u001b[39mshape\u001b[38;5;132;01m}\u001b[39;00m\u001b[38;5;124m\"\u001b[39m)\n\u001b[0;32m     12\u001b[0m \u001b[38;5;28mprint\u001b[39m(\u001b[38;5;124m\"\u001b[39m\u001b[38;5;130;01m\\n\u001b[39;00m\u001b[38;5;124m\"\u001b[39m)\n",
      "File \u001b[1;32mc:\\Users\\taku0\\Documents\\Repos\\Airfoil-VAE\\readdat.py:35\u001b[0m, in \u001b[0;36mread_airfoil\u001b[1;34m(data)\u001b[0m\n\u001b[0;32m     33\u001b[0m coords \u001b[38;5;241m=\u001b[39m []\n\u001b[0;32m     34\u001b[0m \u001b[38;5;28;01mfor\u001b[39;00m line \u001b[38;5;129;01min\u001b[39;00m airfoil[\u001b[38;5;241m1\u001b[39m:]:  \u001b[38;5;66;03m# 1行目はヘッダー\u001b[39;00m\n\u001b[1;32m---> 35\u001b[0m     parts \u001b[38;5;241m=\u001b[39m \u001b[43mline\u001b[49m\u001b[38;5;241;43m.\u001b[39;49m\u001b[43mstrip\u001b[49m()\u001b[38;5;241m.\u001b[39msplit()\n\u001b[0;32m     36\u001b[0m     \u001b[38;5;28;01mif\u001b[39;00m \u001b[38;5;28mlen\u001b[39m(parts) \u001b[38;5;241m==\u001b[39m \u001b[38;5;241m2\u001b[39m:\n\u001b[0;32m     37\u001b[0m         \u001b[38;5;28;01mtry\u001b[39;00m:\n",
      "\u001b[1;31mAttributeError\u001b[0m: 'list' object has no attribute 'strip'"
     ]
    }
   ],
   "source": [
    "# すべての.datファイルについて展の数を確認する\n",
    "# ここでは、データの形状を確認するためにprint文を使用しています。\n",
    "\n",
    "data_dir = \"UIUC Database\"\n",
    "file_list = [f for f in os.listdir(data_dir) if f.endswith(\".dat\")]\n",
    "\n",
    "for i, file in enumerate(file_list):\n",
    "    data = data_dir + \"/\" + file\n",
    "    print(f\"Processing file {i + 1}/{len(file_list)}: {file}\")\n",
    "    read_airfoil_data = rd.read_airfoil(data)\n",
    "    print(f\"Data shape for {file}: {read_airfoil_data.shape}\")\n",
    "    print(\"\\n\")\n",
    "\n",
    "    # 処理できないファイルがある場合はスキップし処理を続ける\n",
    "    # 処理できないファイルはファイル名をスキップリストに追加\n",
    "    if read_airfoil_data.shape[0] == 0:\n",
    "        print(f\"Skipping file {file} due to no data points.\")\n",
    "        continue\n"
   ]
  },
  {
   "cell_type": "code",
   "execution_count": 2,
   "id": "e982e8e8",
   "metadata": {},
   "outputs": [
    {
     "name": "stdout",
     "output_type": "stream",
     "text": [
      "Saved (1637, 200, 2) to airfoils_resampled.npy\n",
      "Saved (1637,) to airfoils_labels.npy\n"
     ]
    }
   ],
   "source": [
    "import ResampleUIUC as resmpl\n",
    "folder = \"UIUC Database\"  # UIUCのdatフォルダ\n",
    "dataset, names, labels = resmpl.process_uiuc_folder(folder, n_points=200)"
   ]
  },
  {
   "cell_type": "code",
   "execution_count": 5,
   "id": "d37a12b5",
   "metadata": {},
   "outputs": [
    {
     "name": "stdout",
     "output_type": "stream",
     "text": [
      "(1637, 200, 2)\n",
      "[[ 1.00000000e+00  1.60000000e-03]\n",
      " [ 9.89948862e-01  3.77104575e-03]\n",
      " [ 9.79897725e-01  5.94209150e-03]\n",
      " [ 9.69846587e-01  8.11313724e-03]\n",
      " [ 9.59795449e-01  1.02841830e-02]\n",
      " [ 9.49743999e-01  1.24537603e-02]\n",
      " [ 9.39680566e-01  1.45670812e-02]\n",
      " [ 9.29617133e-01  1.66804022e-02]\n",
      " [ 9.19553700e-01  1.87937231e-02]\n",
      " [ 9.09490267e-01  2.09070440e-02]\n",
      " [ 8.99425595e-01  2.30143066e-02]\n",
      " [ 8.89340410e-01  2.50212584e-02]\n",
      " [ 8.79255225e-01  2.70282102e-02]\n",
      " [ 8.69170040e-01  2.90351620e-02]\n",
      " [ 8.59084855e-01  3.10421138e-02]\n",
      " [ 8.48999670e-01  3.30490656e-02]\n",
      " [ 8.38914486e-01  3.50560174e-02]\n",
      " [ 8.28829301e-01  3.70629692e-02]\n",
      " [ 8.18744116e-01  3.90699209e-02]\n",
      " [ 8.08658931e-01  4.10768727e-02]\n",
      " [ 7.98569282e-01  4.30603906e-02]\n",
      " [ 7.88452533e-01  4.49016390e-02]\n",
      " [ 7.78335784e-01  4.67428873e-02]\n",
      " [ 7.68219035e-01  4.85841357e-02]\n",
      " [ 7.58102286e-01  5.04253840e-02]\n",
      " [ 7.47985536e-01  5.22666324e-02]\n",
      " [ 7.37868787e-01  5.41078807e-02]\n",
      " [ 7.27752038e-01  5.59491291e-02]\n",
      " [ 7.17635289e-01  5.77903774e-02]\n",
      " [ 7.07518540e-01  5.96316258e-02]\n",
      " [ 6.97392686e-01  6.14197776e-02]\n",
      " [ 6.87240484e-01  6.30542821e-02]\n",
      " [ 6.77088282e-01  6.46887866e-02]\n",
      " [ 6.66936080e-01  6.63232912e-02]\n",
      " [ 6.56783878e-01  6.79577957e-02]\n",
      " [ 6.46631676e-01  6.95923002e-02]\n",
      " [ 6.36479474e-01  7.12268047e-02]\n",
      " [ 6.26327272e-01  7.28613092e-02]\n",
      " [ 6.16175070e-01  7.44958137e-02]\n",
      " [ 6.06022868e-01  7.61303182e-02]\n",
      " [ 5.95854543e-01  7.76554913e-02]\n",
      " [ 5.85662700e-01  7.90211982e-02]\n",
      " [ 5.75470858e-01  8.03869051e-02]\n",
      " [ 5.65279015e-01  8.17526120e-02]\n",
      " [ 5.55087173e-01  8.31183189e-02]\n",
      " [ 5.44895330e-01  8.44840258e-02]\n",
      " [ 5.34703488e-01  8.58497327e-02]\n",
      " [ 5.24511645e-01  8.72154396e-02]\n",
      " [ 5.14319803e-01  8.85811465e-02]\n",
      " [ 5.04127960e-01  8.99468533e-02]\n",
      " [ 4.93910499e-01  9.10906816e-02]\n",
      " [ 4.83675599e-01  9.20834669e-02]\n",
      " [ 4.73440698e-01  9.30762523e-02]\n",
      " [ 4.63205798e-01  9.40690376e-02]\n",
      " [ 4.52970898e-01  9.50618229e-02]\n",
      " [ 4.42735997e-01  9.60546083e-02]\n",
      " [ 4.32501097e-01  9.70473936e-02]\n",
      " [ 4.22266196e-01  9.80401790e-02]\n",
      " [ 4.12031296e-01  9.90329643e-02]\n",
      " [ 4.01796396e-01  1.00025750e-01]\n",
      " [ 3.91530845e-01  1.00589581e-01]\n",
      " [ 3.81258769e-01  1.01062097e-01]\n",
      " [ 3.70986693e-01  1.01534612e-01]\n",
      " [ 3.60714618e-01  1.02007128e-01]\n",
      " [ 3.50442542e-01  1.02479643e-01]\n",
      " [ 3.40170467e-01  1.02952159e-01]\n",
      " [ 3.29898391e-01  1.03424674e-01]\n",
      " [ 3.19626315e-01  1.03897190e-01]\n",
      " [ 3.09354240e-01  1.04369705e-01]\n",
      " [ 2.99081223e-01  1.04792650e-01]\n",
      " [ 2.88798614e-01  1.04710389e-01]\n",
      " [ 2.78516005e-01  1.04628128e-01]\n",
      " [ 2.68233397e-01  1.04545867e-01]\n",
      " [ 2.57950788e-01  1.04463606e-01]\n",
      " [ 2.47672573e-01  1.04255700e-01]\n",
      " [ 2.37409343e-01  1.03619379e-01]\n",
      " [ 2.27146112e-01  1.02983059e-01]\n",
      " [ 2.16882881e-01  1.02346739e-01]\n",
      " [ 2.06619650e-01  1.01710418e-01]\n",
      " [ 1.96394154e-01  1.00730276e-01]\n",
      " [ 1.86237214e-01  9.91254798e-02]\n",
      " [ 1.76080274e-01  9.75206832e-02]\n",
      " [ 1.65923333e-01  9.59158866e-02]\n",
      " [ 1.55766393e-01  9.43110901e-02]\n",
      " [ 1.45751918e-01  9.20915907e-02]\n",
      " [ 1.35924552e-01  8.90647621e-02]\n",
      " [ 1.26097186e-01  8.60379334e-02]\n",
      " [ 1.16269821e-01  8.30111048e-02]\n",
      " [ 1.06442455e-01  7.99842761e-02]\n",
      " [ 9.67871808e-02  7.65092519e-02]\n",
      " [ 8.74594464e-02  7.21811831e-02]\n",
      " [ 7.81317120e-02  6.78531143e-02]\n",
      " [ 6.91532171e-02  6.28685431e-02]\n",
      " [ 6.03512416e-02  5.75521499e-02]\n",
      " [ 5.15492661e-02  5.22357567e-02]\n",
      " [ 4.33319734e-02  4.60722672e-02]\n",
      " [ 3.52395760e-02  3.97278276e-02]\n",
      " [ 2.71471786e-02  3.33833881e-02]\n",
      " [ 1.96367257e-02  2.63796319e-02]\n",
      " [ 1.23747661e-02  1.91066388e-02]\n",
      " [ 6.78483906e-03  1.04757915e-02]\n",
      " [ 1.19491205e-03  1.84494420e-03]\n",
      " [ 7.50658546e-03 -3.00263419e-03]\n",
      " [ 1.73948513e-02 -4.68672952e-03]\n",
      " [ 2.76406850e-02 -3.86199231e-03]\n",
      " [ 3.78404062e-02 -2.55642801e-03]\n",
      " [ 4.80401273e-02 -1.25086371e-03]\n",
      " [ 5.82127431e-02  2.48336959e-04]\n",
      " [ 6.83789119e-02  1.79359462e-03]\n",
      " [ 7.85407643e-02  3.36652228e-03]\n",
      " [ 8.86945548e-02  4.99112878e-03]\n",
      " [ 9.88483454e-02  6.61573527e-03]\n",
      " [ 1.09010416e-01  8.18760402e-03]\n",
      " [ 1.19173545e-01  9.75272597e-03]\n",
      " [ 1.29336675e-01  1.13178479e-02]\n",
      " [ 1.39499804e-01  1.28829699e-02]\n",
      " [ 1.49662934e-01  1.44480918e-02]\n",
      " [ 1.59840396e-01  1.59170171e-02]\n",
      " [ 1.70018351e-01  1.73826425e-02]\n",
      " [ 1.80196305e-01  1.88482679e-02]\n",
      " [ 1.90374259e-01  2.03138933e-02]\n",
      " [ 2.00553254e-01  2.17719230e-02]\n",
      " [ 2.10750387e-01  2.30975503e-02]\n",
      " [ 2.20947520e-01  2.44231776e-02]\n",
      " [ 2.31144653e-01  2.57488049e-02]\n",
      " [ 2.41341786e-01  2.70744321e-02]\n",
      " [ 2.51543858e-01  2.83574735e-02]\n",
      " [ 2.61773718e-01  2.94009192e-02]\n",
      " [ 2.72003577e-01  3.04443649e-02]\n",
      " [ 2.82233437e-01  3.14878106e-02]\n",
      " [ 2.92463297e-01  3.25312563e-02]\n",
      " [ 3.02703477e-01  3.34405808e-02]\n",
      " [ 3.12972541e-01  3.39745721e-02]\n",
      " [ 3.23241604e-01  3.45085634e-02]\n",
      " [ 3.33510667e-01  3.50425547e-02]\n",
      " [ 3.43779731e-01  3.55765460e-02]\n",
      " [ 3.54048794e-01  3.61105373e-02]\n",
      " [ 3.64317858e-01  3.66445286e-02]\n",
      " [ 3.74586921e-01  3.71785199e-02]\n",
      " [ 3.84855984e-01  3.77125112e-02]\n",
      " [ 3.95125048e-01  3.82465025e-02]\n",
      " [ 4.05401396e-01  3.85054014e-02]\n",
      " [ 4.15684329e-01  3.85156843e-02]\n",
      " [ 4.25967261e-01  3.85259673e-02]\n",
      " [ 4.36250194e-01  3.85362502e-02]\n",
      " [ 4.46533127e-01  3.85465331e-02]\n",
      " [ 4.56816059e-01  3.85568161e-02]\n",
      " [ 4.67098992e-01  3.85670990e-02]\n",
      " [ 4.77381925e-01  3.85773819e-02]\n",
      " [ 4.87664857e-01  3.85876649e-02]\n",
      " [ 4.97947790e-01  3.85979478e-02]\n",
      " [ 5.08225398e-01  3.83038857e-02]\n",
      " [ 5.18501679e-01  3.79339395e-02]\n",
      " [ 5.28777960e-01  3.75639934e-02]\n",
      " [ 5.39054241e-01  3.71940473e-02]\n",
      " [ 5.49330522e-01  3.68241012e-02]\n",
      " [ 5.59606803e-01  3.64541551e-02]\n",
      " [ 5.69883084e-01  3.60842090e-02]\n",
      " [ 5.80159365e-01  3.57142629e-02]\n",
      " [ 5.90435645e-01  3.53443168e-02]\n",
      " [ 6.00710933e-01  3.49545003e-02]\n",
      " [ 6.10972876e-01  3.42977359e-02]\n",
      " [ 6.21234819e-01  3.36409716e-02]\n",
      " [ 6.31496761e-01  3.29842073e-02]\n",
      " [ 6.41758704e-01  3.23274429e-02]\n",
      " [ 6.52020647e-01  3.16706786e-02]\n",
      " [ 6.62282590e-01  3.10139143e-02]\n",
      " [ 6.72544533e-01  3.03571499e-02]\n",
      " [ 6.82806475e-01  2.97003856e-02]\n",
      " [ 6.93068418e-01  2.90436212e-02]\n",
      " [ 7.03325463e-01  2.83206611e-02]\n",
      " [ 7.13572313e-01  2.74599257e-02]\n",
      " [ 7.23819164e-01  2.65991902e-02]\n",
      " [ 7.34066014e-01  2.57384548e-02]\n",
      " [ 7.44312865e-01  2.48777194e-02]\n",
      " [ 7.54559715e-01  2.40169839e-02]\n",
      " [ 7.64806565e-01  2.31562485e-02]\n",
      " [ 7.75053416e-01  2.22955131e-02]\n",
      " [ 7.85300266e-01  2.14347776e-02]\n",
      " [ 7.95547117e-01  2.05740422e-02]\n",
      " [ 8.05784360e-01  1.96099953e-02]\n",
      " [ 8.16014220e-01  1.85665496e-02]\n",
      " [ 8.26244079e-01  1.75231039e-02]\n",
      " [ 8.36473939e-01  1.64796582e-02]\n",
      " [ 8.46703799e-01  1.54362125e-02]\n",
      " [ 8.56933659e-01  1.43927668e-02]\n",
      " [ 8.67163518e-01  1.33493211e-02]\n",
      " [ 8.77393378e-01  1.23058754e-02]\n",
      " [ 8.87623238e-01  1.12624297e-02]\n",
      " [ 8.97853098e-01  1.02189841e-02]\n",
      " [ 9.08074411e-01  9.09566595e-03]\n",
      " [ 9.18293455e-01  7.95113306e-03]\n",
      " [ 9.28512498e-01  6.80660017e-03]\n",
      " [ 9.38731542e-01  5.66206728e-03]\n",
      " [ 9.48950586e-01  4.51753439e-03]\n",
      " [ 9.59161237e-01  3.30065156e-03]\n",
      " [ 9.69370928e-01  2.07548867e-03]\n",
      " [ 9.79580619e-01  8.50325778e-04]\n",
      " [ 9.89790309e-01 -3.74837111e-04]\n",
      " [ 1.00000000e+00 -1.60000000e-03]]\n"
     ]
    }
   ],
   "source": [
    "# airfoils_resampled.npy の中身を可視化\n",
    "import matplotlib.pyplot as plt\n",
    "\n",
    "airfoildata = np.load(\"airfoils_resampled.npy\")\n",
    "print(airfoildata.shape)\n",
    "print(airfoildata[0])\n"
   ]
  },
  {
   "cell_type": "code",
   "execution_count": 6,
   "id": "55184fe3",
   "metadata": {},
   "outputs": [
    {
     "name": "stdout",
     "output_type": "stream",
     "text": [
      "(1637,)\n",
      "['Unknown' 'Unknown' 'Unknown' 'Unknown' ' Drela AG' ' Drela AG'\n",
      " ' Drela AG' ' Drela AG' ' Drela AG' ' Drela AG' ' Drela AG' ' Drela AG'\n",
      " ' Drela AG' ' Drela AG' ' Drela AG' ' Drela AG' ' Drela AG' ' Drela AG'\n",
      " ' Drela AG' ' Drela AG' ' Drela AG' ' Drela AG' ' Drela AG' ' Drela AG'\n",
      " ' Drela AG' ' Drela AG' ' Drela AG' ' Drela AG' ' Drela AG' ' Drela AG']\n"
     ]
    }
   ],
   "source": [
    "# airfoils_labels.npy の中身を可視化\n",
    "import matplotlib.pyplot as plt\n",
    "\n",
    "airfoil_labels = np.load(\"airfoils_labels.npy\")\n",
    "print(airfoil_labels.shape)\n",
    "print(airfoil_labels[:30])"
   ]
  },
  {
   "cell_type": "code",
   "execution_count": 4,
   "id": "1de00f75",
   "metadata": {},
   "outputs": [
    {
     "data": {
      "image/png": "[encoded data removed]",
      "text/plain": [
       "<Figure size 600x300 with 1 Axes>"
      ]
     },
     "metadata": {},
     "output_type": "display_data"
    }
   ],
   "source": [
    "import ResampleUIUC as resmpl\n",
    "import matplotlib.pyplot as plt\n",
    "\n",
    "data_dir = \"UIUC Database\"\n",
    "filename = \"naca4412.dat\"\n",
    "data = data_dir + \"/\" + filename\n",
    "\n",
    "coords = resmpl.load_airfoil_dat(data)\n",
    "coords_resampled = resmpl.normalize_and_resample(coords, n_points=100)\n",
    "\n",
    "plt.figure(figsize=(6,3))\n",
    "plt.plot(coords[:,0], coords[:,1], 'o-', label='Original')\n",
    "plt.plot(coords_resampled[:,0], coords_resampled[:,1], 'r.-', label='Resampled')\n",
    "plt.axis('equal')\n",
    "plt.legend()\n",
    "plt.show()\n"
   ]
  },
  {
   "cell_type": "code",
   "execution_count": 5,
   "id": "b0fa643e",
   "metadata": {},
   "outputs": [
    {
     "data": {
      "image/png": "[encoded data removed]",
      "text/plain": [
       "<Figure size 600x300 with 1 Axes>"
      ]
     },
     "metadata": {},
     "output_type": "display_data"
    }
   ],
   "source": [
    "data_dir = \"UIUC Database\"\n",
    "filename = \"DAE31.dat\"\n",
    "data = data_dir + \"/\" + filename\n",
    "\n",
    "coords = resmpl.load_airfoil_dat(data)\n",
    "coords_resampled = resmpl.normalize_and_resample(coords, n_points=200)\n",
    "\n",
    "plt.figure(figsize=(6,3))\n",
    "plt.plot(coords[:,0], coords[:,1], 'o-', label='Original')\n",
    "plt.plot(coords_resampled[:,0], coords_resampled[:,1], 'r.-', label='Resampled')\n",
    "plt.axis('equal')\n",
    "plt.legend()\n",
    "plt.show()\n"
   ]
  },
  {
   "cell_type": "code",
   "execution_count": 6,
   "id": "6f466d80",
   "metadata": {},
   "outputs": [
    {
     "data": {
      "image/png": "[encoded data removed]",
      "text/plain": [
       "<Figure size 600x300 with 1 Axes>"
      ]
     },
     "metadata": {},
     "output_type": "display_data"
    }
   ],
   "source": [
    "import ResampleUIUC as resmpl\n",
    "import matplotlib.pyplot as plt\n",
    "\n",
    "data_dir = \"UIUC Database\"\n",
    "filename = \"DAE31.dat\"\n",
    "data = data_dir + \"/\" + filename\n",
    "\n",
    "coords = resmpl.load_airfoil_dat(data)\n",
    "coords_resampled = resmpl.normalize_and_resample(coords, n_points=200)\n",
    "coords_resampled_uiuc = resmpl.normalize_and_resample_uiuc(coords, n_points=200)\n",
    "\n",
    "\n",
    "plt.figure(figsize=(6,3))\n",
    "plt.plot(coords[:,0], coords[:,1], 'o-', label='Original')\n",
    "plt.plot(coords_resampled_uiuc[:,0], coords_resampled_uiuc[:,1], 'r.-', label='Resampled UIUC')\n",
    "plt.axis('equal')\n",
    "plt.legend()\n",
    "plt.show()                                  \n"
   ]
  },
  {
   "cell_type": "markdown",
   "id": "c3808826",
   "metadata": {},
   "source": [
    "補間点数は200あれば十分"
   ]
  },
  {
   "cell_type": "code",
   "execution_count": 5,
   "id": "6656b959",
   "metadata": {},
   "outputs": [
    {
     "name": "stdout",
     "output_type": "stream",
     "text": [
      "NACA\n"
     ]
    }
   ],
   "source": [
    "import ResampleUIUC as resmpl\n",
    "# ラベル抽出のテスト\n",
    "label = resmpl.get_airfoil_label(\"naca4412.dat\")\n",
    "print(label)  # \"NACA\""
   ]
  },
  {
   "cell_type": "code",
   "execution_count": 13,
   "id": "54ff5fcf",
   "metadata": {},
   "outputs": [
    {
     "name": "stdout",
     "output_type": "stream",
     "text": [
      "Filename: naca_airfoil.dat, Extracted Label: NACA\n",
      "Filename: dae_airfoil.dat, Extracted Label: Unknown\n",
      "Filename: e_airfoil.dat, Extracted Label: Eppler\n",
      "Filename: uiuc_airfoil.dat, Extracted Label: Unknown\n",
      "Filename: boeing_airfoil.dat, Extracted Label: Unknown\n",
      "Filename: nasa_airfoil.dat, Extracted Label: Unknown\n",
      "Filename: mel_airfoil.dat, Extracted Label: Unknown\n",
      "Filename: boeing-uiuc_airfoil.dat, Extracted Label: Unknown\n",
      "Filename: boeing-nasa_airfoil.dat, Extracted Label: Unknown\n",
      "Filename: me_airfoil.dat, Extracted Label: Unknown\n"
     ]
    }
   ],
   "source": [
    "\n",
    "maker_list = [\"NACA\", \"DAE\", \"e\", \"UIUC\", \"Boeing\", \"NASA\", \"mel\", \"Boeing-UIUC\", \"Boeing-NASA\",\"ME\"]\n",
    "\n",
    "# ラベル抽出のテスト\n",
    "for maker in maker_list:\n",
    "    filename = f\"{maker.lower()}_airfoil.dat\"\n",
    "    label = resmpl.get_airfoil_label(filename)\n",
    "    print(f\"Filename: {filename}, Extracted Label: {label}\")"
   ]
  },
  {
   "cell_type": "code",
   "execution_count": null,
   "id": "d94b99d5",
   "metadata": {},
   "outputs": [],
   "source": []
  }
 ],
 "metadata": {
  "kernelspec": {
   "display_name": "DLenv",
   "language": "python",
   "name": "python3"
  },
  "language_info": {
   "codemirror_mode": {
    "name": "ipython",
    "version": 3
   },
   "file_extension": ".py",
   "mimetype": "text/x-python",
   "name": "python",
   "nbconvert_exporter": "python",
   "pygments_lexer": "ipython3",
   "version": "3.10.18"
  }
 },
 "nbformat": 4,
 "nbformat_minor": 5
}
